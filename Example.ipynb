{
 "cells": [
  {
   "cell_type": "code",
   "execution_count": 1,
   "metadata": {},
   "outputs": [],
   "source": [
    "from bibli_functions import *"
   ]
  },
  {
   "cell_type": "markdown",
   "metadata": {},
   "source": [
    "### Read in csv file\n",
    "One line per article per author"
   ]
  },
  {
   "cell_type": "code",
   "execution_count": 2,
   "metadata": {},
   "outputs": [
    {
     "data": {
      "text/html": [
       "<div>\n",
       "<style scoped>\n",
       "    .dataframe tbody tr th:only-of-type {\n",
       "        vertical-align: middle;\n",
       "    }\n",
       "\n",
       "    .dataframe tbody tr th {\n",
       "        vertical-align: top;\n",
       "    }\n",
       "\n",
       "    .dataframe thead th {\n",
       "        text-align: right;\n",
       "    }\n",
       "</style>\n",
       "<table border=\"1\" class=\"dataframe\">\n",
       "  <thead>\n",
       "    <tr style=\"text-align: right;\">\n",
       "      <th></th>\n",
       "      <th>Unnamed: 0</th>\n",
       "      <th>AU-ID</th>\n",
       "      <th>source_id</th>\n",
       "      <th>EID</th>\n",
       "      <th>Year</th>\n",
       "      <th>Affiliation Country</th>\n",
       "      <th>Document Type</th>\n",
       "      <th>SubType</th>\n",
       "      <th>subject fields</th>\n",
       "      <th>citedby-count</th>\n",
       "      <th>ISSN</th>\n",
       "      <th>authors</th>\n",
       "      <th>authors2</th>\n",
       "    </tr>\n",
       "  </thead>\n",
       "  <tbody>\n",
       "    <tr>\n",
       "      <td>0</td>\n",
       "      <td>1</td>\n",
       "      <td>7003822985</td>\n",
       "      <td>2.110083e+10</td>\n",
       "      <td>2-s2.0-85101814199</td>\n",
       "      <td>2021</td>\n",
       "      <td>Japan,China</td>\n",
       "      <td>Article</td>\n",
       "      <td>Journal</td>\n",
       "      <td>PHYS</td>\n",
       "      <td>2</td>\n",
       "      <td>23973366</td>\n",
       "      <td>7003822985;57209772271;7102242595;7405449744;5...</td>\n",
       "      <td>NaN</td>\n",
       "    </tr>\n",
       "    <tr>\n",
       "      <td>1</td>\n",
       "      <td>2</td>\n",
       "      <td>7003822985</td>\n",
       "      <td>2.915000e+04</td>\n",
       "      <td>2-s2.0-85104382294</td>\n",
       "      <td>2021</td>\n",
       "      <td>Japan,China</td>\n",
       "      <td>Article</td>\n",
       "      <td>Journal</td>\n",
       "      <td>PHYS</td>\n",
       "      <td>3</td>\n",
       "      <td>10797114 00319007</td>\n",
       "      <td>7003822985;57209772271;7102242595;7405449744;5...</td>\n",
       "      <td>NaN</td>\n",
       "    </tr>\n",
       "    <tr>\n",
       "      <td>2</td>\n",
       "      <td>3</td>\n",
       "      <td>7003822985</td>\n",
       "      <td>2.110025e+10</td>\n",
       "      <td>2-s2.0-85086235883</td>\n",
       "      <td>2019</td>\n",
       "      <td>Japan,China</td>\n",
       "      <td>Conference Paper</td>\n",
       "      <td>Conference Proceeding</td>\n",
       "      <td>MULT</td>\n",
       "      <td>0</td>\n",
       "      <td>18248039</td>\n",
       "      <td>7003822985;57209772271;7102242595;7405449744;5...</td>\n",
       "      <td>NaN</td>\n",
       "    </tr>\n",
       "    <tr>\n",
       "      <td>3</td>\n",
       "      <td>4</td>\n",
       "      <td>7003822985</td>\n",
       "      <td>2.110025e+10</td>\n",
       "      <td>2-s2.0-85086230025</td>\n",
       "      <td>2019</td>\n",
       "      <td>Japan,China</td>\n",
       "      <td>Conference Paper</td>\n",
       "      <td>Conference Proceeding</td>\n",
       "      <td>MULT</td>\n",
       "      <td>0</td>\n",
       "      <td>18248039</td>\n",
       "      <td>7003822985;57209772271;7102242595;7405449744;5...</td>\n",
       "      <td>NaN</td>\n",
       "    </tr>\n",
       "  </tbody>\n",
       "</table>\n",
       "</div>"
      ],
      "text/plain": [
       "   Unnamed: 0       AU-ID     source_id                 EID  Year  \\\n",
       "0           1  7003822985  2.110083e+10  2-s2.0-85101814199  2021   \n",
       "1           2  7003822985  2.915000e+04  2-s2.0-85104382294  2021   \n",
       "2           3  7003822985  2.110025e+10  2-s2.0-85086235883  2019   \n",
       "3           4  7003822985  2.110025e+10  2-s2.0-85086230025  2019   \n",
       "\n",
       "  Affiliation Country     Document Type                SubType subject fields  \\\n",
       "0         Japan,China           Article                Journal           PHYS   \n",
       "1         Japan,China           Article                Journal           PHYS   \n",
       "2         Japan,China  Conference Paper  Conference Proceeding           MULT   \n",
       "3         Japan,China  Conference Paper  Conference Proceeding           MULT   \n",
       "\n",
       "   citedby-count               ISSN  \\\n",
       "0              2           23973366   \n",
       "1              3  10797114 00319007   \n",
       "2              0           18248039   \n",
       "3              0           18248039   \n",
       "\n",
       "                                             authors  authors2  \n",
       "0  7003822985;57209772271;7102242595;7405449744;5...       NaN  \n",
       "1  7003822985;57209772271;7102242595;7405449744;5...       NaN  \n",
       "2  7003822985;57209772271;7102242595;7405449744;5...       NaN  \n",
       "3  7003822985;57209772271;7102242595;7405449744;5...       NaN  "
      ]
     },
     "execution_count": 2,
     "metadata": {},
     "output_type": "execute_result"
    }
   ],
   "source": [
    "author_data = pd.read_csv('data/author_data_test.csv')\n",
    "author_data[:4]"
   ]
  },
  {
   "cell_type": "code",
   "execution_count": 3,
   "metadata": {},
   "outputs": [
    {
     "name": "stdout",
     "output_type": "stream",
     "text": [
      "Mean:  64.72008500939415 +/-  81.91534696574102\n"
     ]
    },
    {
     "data": {
      "image/png": "[encoded data removed]",
      "text/plain": [
       "<Figure size 432x288 with 1 Axes>"
      ]
     },
     "metadata": {
      "needs_background": "light"
     },
     "output_type": "display_data"
    }
   ],
   "source": [
    "n_authors(author_data)"
   ]
  }
 ],
 "metadata": {
  "kernelspec": {
   "display_name": "Python 3",
   "language": "python",
   "name": "python3"
  },
  "language_info": {
   "codemirror_mode": {
    "name": "ipython",
    "version": 3
   },
   "file_extension": ".py",
   "mimetype": "text/x-python",
   "name": "python",
   "nbconvert_exporter": "python",
   "pygments_lexer": "ipython3",
   "version": "3.7.4"
  }
 },
 "nbformat": 4,
 "nbformat_minor": 2
}
